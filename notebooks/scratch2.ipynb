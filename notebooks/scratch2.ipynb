{
 "cells": [
  {
   "cell_type": "code",
   "execution_count": 1,
   "id": "5b5d5e22",
   "metadata": {},
   "outputs": [],
   "source": [
    "import numpy as np\n",
    "import matplotlib.pyplot as plt\n",
    "from scipy import optimize\n",
    "import pandas as pd\n",
    "from statsmodels.tools.tools import add_constant"
   ]
  },
  {
   "cell_type": "code",
   "execution_count": 2,
   "id": "754957a2",
   "metadata": {},
   "outputs": [
    {
     "data": {
      "text/html": [
       "<div>\n",
       "<style scoped>\n",
       "    .dataframe tbody tr th:only-of-type {\n",
       "        vertical-align: middle;\n",
       "    }\n",
       "\n",
       "    .dataframe tbody tr th {\n",
       "        vertical-align: top;\n",
       "    }\n",
       "\n",
       "    .dataframe thead th {\n",
       "        text-align: right;\n",
       "    }\n",
       "</style>\n",
       "<table border=\"1\" class=\"dataframe\">\n",
       "  <thead>\n",
       "    <tr style=\"text-align: right;\">\n",
       "      <th></th>\n",
       "      <th>X</th>\n",
       "      <th>Y</th>\n",
       "    </tr>\n",
       "  </thead>\n",
       "  <tbody>\n",
       "    <tr>\n",
       "      <th>count</th>\n",
       "      <td>1000.000000</td>\n",
       "      <td>1000.000000</td>\n",
       "    </tr>\n",
       "    <tr>\n",
       "      <th>mean</th>\n",
       "      <td>1.259171</td>\n",
       "      <td>-0.480080</td>\n",
       "    </tr>\n",
       "    <tr>\n",
       "      <th>std</th>\n",
       "      <td>0.440379</td>\n",
       "      <td>1.018840</td>\n",
       "    </tr>\n",
       "    <tr>\n",
       "      <th>min</th>\n",
       "      <td>0.500444</td>\n",
       "      <td>-4.134258</td>\n",
       "    </tr>\n",
       "    <tr>\n",
       "      <th>25%</th>\n",
       "      <td>0.873378</td>\n",
       "      <td>-1.163643</td>\n",
       "    </tr>\n",
       "    <tr>\n",
       "      <th>50%</th>\n",
       "      <td>1.277332</td>\n",
       "      <td>-0.479364</td>\n",
       "    </tr>\n",
       "    <tr>\n",
       "      <th>75%</th>\n",
       "      <td>1.634770</td>\n",
       "      <td>0.173818</td>\n",
       "    </tr>\n",
       "    <tr>\n",
       "      <th>max</th>\n",
       "      <td>1.999606</td>\n",
       "      <td>3.884550</td>\n",
       "    </tr>\n",
       "  </tbody>\n",
       "</table>\n",
       "</div>"
      ],
      "text/plain": [
       "                 X            Y\n",
       "count  1000.000000  1000.000000\n",
       "mean      1.259171    -0.480080\n",
       "std       0.440379     1.018840\n",
       "min       0.500444    -4.134258\n",
       "25%       0.873378    -1.163643\n",
       "50%       1.277332    -0.479364\n",
       "75%       1.634770     0.173818\n",
       "max       1.999606     3.884550"
      ]
     },
     "execution_count": 2,
     "metadata": {},
     "output_type": "execute_result"
    }
   ],
   "source": [
    "rng = np.random.default_rng(787)\n",
    "\n",
    "n = 1000\n",
    "X = rng.uniform(0.5,2,n)\n",
    "beta_0 = 0.5\n",
    "beta_1 = -0.75\n",
    "epsilon = rng.normal(0,1,n)\n",
    "Y = beta_0 + beta_1 * X + epsilon\n",
    "data = pd.DataFrame({'X': X, 'Y': Y})\n",
    "data.describe()\n"
   ]
  },
  {
   "cell_type": "code",
   "execution_count": null,
   "id": "191ca4e1",
   "metadata": {},
   "outputs": [
    {
     "data": {
      "text/plain": [
       "array([[1.        , 0.63644143],\n",
       "       [1.        , 1.17028191],\n",
       "       [1.        , 1.36059534],\n",
       "       ...,\n",
       "       [1.        , 1.65645626],\n",
       "       [1.        , 1.14574735],\n",
       "       [1.        , 1.93276228]], shape=(1000, 2))"
      ]
     },
     "execution_count": 3,
     "metadata": {},
     "output_type": "execute_result"
    }
   ],
   "source": [
    "X = add_constant(data[\"X\"].values)\n"
   ]
  },
  {
   "cell_type": "code",
   "execution_count": null,
   "id": "cee6f276",
   "metadata": {},
   "outputs": [
    {
     "name": "stdout",
     "output_type": "stream",
     "text": [
      "Estimated parameters: [ 0.50858469 -0.78517093  0.91755727]\n"
     ]
    }
   ],
   "source": [
    "\n",
    "X = add_constant(data[\"X\"].values)\n",
    "\n",
    "theta = np.array([0.0, 0.0, 1.0])\n",
    "max_iter = 100\n",
    "tol = 1e-6\n",
    "\n",
    "for i in range(max_iter):\n",
    "    beta = theta[:2]\n",
    "    sigma2 = theta[2]\n",
    "    residuals = Y - X @ beta\n",
    "\n",
    "    grad_beta = (X.T @ residuals) / sigma2\n",
    "    grad_sigma2 = -n / (2 * sigma2) + 0.5 * np.sum(residuals**2) / sigma2**2\n",
    "    grad = np.concatenate((grad_beta, [grad_sigma2]))\n",
    "\n",
    "    H_beta = -(X.T @ X) / sigma2\n",
    "    H_cross = - (X.T @ residuals) / sigma2**2 \n",
    "    H_sigma2 = n / (2 * sigma2**2) - np.sum(residuals**2) / sigma2**3\n",
    "\n",
    "    H = np.zeros((3, 3))\n",
    "    H[:2, :2] = H_beta\n",
    "    H[:2, 2] = H_cross\n",
    "    H[2, :2] = H_cross\n",
    "    H[2, 2] = H_sigma2\n",
    "\n",
    "    delta = np.linalg.solve(H, grad)\n",
    "    theta_new = theta - delta\n",
    "\n",
    "    if np.linalg.norm(delta) < tol:\n",
    "        break\n",
    "    theta = theta_new\n",
    "\n",
    "print(\"Estimated parameters:\", theta)\n"
   ]
  }
 ],
 "metadata": {
  "kernelspec": {
   "display_name": ".venv",
   "language": "python",
   "name": "python3"
  },
  "language_info": {
   "codemirror_mode": {
    "name": "ipython",
    "version": 3
   },
   "file_extension": ".py",
   "mimetype": "text/x-python",
   "name": "python",
   "nbconvert_exporter": "python",
   "pygments_lexer": "ipython3",
   "version": "3.11.13"
  }
 },
 "nbformat": 4,
 "nbformat_minor": 5
}
