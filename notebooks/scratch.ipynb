{
 "cells": [
  {
   "cell_type": "code",
   "execution_count": 1,
   "id": "b82ed1ac",
   "metadata": {},
   "outputs": [],
   "source": [
    "import numpy as np\n",
    "import matplotlib.pyplot as plt\n",
    "from scipy import optimize"
   ]
  },
  {
   "cell_type": "code",
   "execution_count": 14,
   "id": "adfb4cfe",
   "metadata": {},
   "outputs": [],
   "source": [
    "def func(x):\n",
    "    return np.exp(-x**2 + x -3)*(-2*x + 1)"
   ]
  },
  {
   "cell_type": "code",
   "execution_count": 15,
   "id": "a8aa97a5",
   "metadata": {},
   "outputs": [
    {
     "data": {
      "text/plain": [
       "np.float64(0.5)"
      ]
     },
     "execution_count": 15,
     "metadata": {},
     "output_type": "execute_result"
    }
   ],
   "source": [
    "root = optimize.newton(func,0,maxiter=500)\n",
    "root"
   ]
  },
  {
   "cell_type": "code",
   "execution_count": null,
   "id": "8d903953",
   "metadata": {},
   "outputs": [],
   "source": [
    "def eq_1(x):\n",
    "    return -2*x + 1\n",
    "\n",
    "def eq_2(x):\n",
    "    return (-2*x + 1)*2 - 2"
   ]
  },
  {
   "cell_type": "code",
   "execution_count": null,
   "id": "7281f621",
   "metadata": {},
   "outputs": [],
   "source": [
    "rng = np.random.default_rng()\n"
   ]
  },
  {
   "cell_type": "code",
   "execution_count": null,
   "id": "03d63230",
   "metadata": {},
   "outputs": [],
   "source": [
    "def eq_1(x):\n",
    "    return -4*x**3 + 1\n",
    "\n",
    "def eq_2(x):\n",
    "    return (-4*x**3 + 1)*4 - 2"
   ]
  },
  {
   "cell_type": "code",
   "execution_count": null,
   "id": "b4fb3e81",
   "metadata": {},
   "outputs": [],
   "source": [
    "x = 0\n",
    "i  =0\n",
    "x1= 1\n",
    "while abs(x1-x) > 10e-6:\n",
    "    x = x1\n",
    "    x1 = x - eq_1(x)/eq_2(x)\n",
    "    i += 1\n"
   ]
  },
  {
   "cell_type": "code",
   "execution_count": null,
   "id": "d6c0f859",
   "metadata": {},
   "outputs": [],
   "source": [
    "i"
   ]
  }
 ],
 "metadata": {
  "kernelspec": {
   "display_name": ".venv",
   "language": "python",
   "name": "python3"
  },
  "language_info": {
   "codemirror_mode": {
    "name": "ipython",
    "version": 3
   },
   "file_extension": ".py",
   "mimetype": "text/x-python",
   "name": "python",
   "nbconvert_exporter": "python",
   "pygments_lexer": "ipython3",
   "version": "3.12.11"
  }
 },
 "nbformat": 4,
 "nbformat_minor": 5
}
