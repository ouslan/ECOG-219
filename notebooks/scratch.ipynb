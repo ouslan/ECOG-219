{
 "cells": [
  {
   "cell_type": "code",
   "execution_count": 3,
   "id": "b82ed1ac",
   "metadata": {},
   "outputs": [],
   "source": [
    "import numpy as np"
   ]
  },
  {
   "cell_type": "code",
   "execution_count": 25,
   "id": "8d903953",
   "metadata": {},
   "outputs": [],
   "source": [
    "def eq_1(x):\n",
    "    return -2*x + 1\n",
    "\n",
    "def eq_2(x):\n",
    "    return (-2*x + 1)*2 - 2"
   ]
  },
  {
   "cell_type": "code",
   "execution_count": null,
   "id": "03d63230",
   "metadata": {},
   "outputs": [],
   "source": [
    "def eq_1(x):\n",
    "    return -4*x**3 + 1\n",
    "\n",
    "def eq_2(x):\n",
    "    return (-4*x**3 + 1)*4 - 2"
   ]
  },
  {
   "cell_type": "code",
   "execution_count": 31,
   "id": "b4fb3e81",
   "metadata": {},
   "outputs": [
    {
     "ename": "KeyboardInterrupt",
     "evalue": "",
     "output_type": "error",
     "traceback": [
      "\u001b[31m---------------------------------------------------------------------------\u001b[39m",
      "\u001b[31mKeyboardInterrupt\u001b[39m                         Traceback (most recent call last)",
      "\u001b[36mCell\u001b[39m\u001b[36m \u001b[39m\u001b[32mIn[31]\u001b[39m\u001b[32m, line 4\u001b[39m\n\u001b[32m      2\u001b[39m i  =\u001b[32m0\u001b[39m\n\u001b[32m      3\u001b[39m x1= \u001b[32m1\u001b[39m\n\u001b[32m----> \u001b[39m\u001b[32m4\u001b[39m \u001b[38;5;28;01mwhile\u001b[39;00m \u001b[38;5;28;43mabs\u001b[39;49m\u001b[43m(\u001b[49m\u001b[43mx1\u001b[49m\u001b[43m-\u001b[49m\u001b[43mx\u001b[49m\u001b[43m)\u001b[49m > \u001b[32m10\u001b[39m**-\u001b[32m6\u001b[39m:\n\u001b[32m      5\u001b[39m     x = x1\n\u001b[32m      6\u001b[39m     x1 = x - eq_1(x)/eq_2(x)\n",
      "\u001b[31mKeyboardInterrupt\u001b[39m: "
     ]
    }
   ],
   "source": [
    "x = 0\n",
    "i  =0\n",
    "x1= 1\n",
    "while abs(x1-x) > 10e-6:\n",
    "    x = x1\n",
    "    x1 = x - eq_1(x)/eq_2(x)\n",
    "    i += 1\n"
   ]
  },
  {
   "cell_type": "code",
   "execution_count": 33,
   "id": "d6c0f859",
   "metadata": {},
   "outputs": [
    {
     "data": {
      "text/plain": [
       "224913115"
      ]
     },
     "execution_count": 33,
     "metadata": {},
     "output_type": "execute_result"
    }
   ],
   "source": [
    "i"
   ]
  }
 ],
 "metadata": {
  "kernelspec": {
   "display_name": ".venv",
   "language": "python",
   "name": "python3"
  },
  "language_info": {
   "codemirror_mode": {
    "name": "ipython",
    "version": 3
   },
   "file_extension": ".py",
   "mimetype": "text/x-python",
   "name": "python",
   "nbconvert_exporter": "python",
   "pygments_lexer": "ipython3",
   "version": "3.12.11"
  }
 },
 "nbformat": 4,
 "nbformat_minor": 5
}
